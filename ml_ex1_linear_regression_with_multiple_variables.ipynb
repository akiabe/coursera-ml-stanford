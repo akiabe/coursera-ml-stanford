{
  "nbformat": 4,
  "nbformat_minor": 0,
  "metadata": {
    "colab": {
      "name": "ml_ex1_linear_regression_with_multiple_variables.ipynb",
      "provenance": [],
      "authorship_tag": "ABX9TyNcwJZmV5ra0xpHVyTG7WAd",
      "include_colab_link": true
    },
    "kernelspec": {
      "name": "python3",
      "display_name": "Python 3"
    }
  },
  "cells": [
    {
      "cell_type": "markdown",
      "metadata": {
        "id": "view-in-github",
        "colab_type": "text"
      },
      "source": [
        "<a href=\"https://colab.research.google.com/github/akiabe/coursera-ml-stanford/blob/master/ml_ex1_linear_regression_with_multiple_variables.ipynb\" target=\"_parent\"><img src=\"https://colab.research.google.com/assets/colab-badge.svg\" alt=\"Open In Colab\"/></a>"
      ]
    },
    {
      "cell_type": "code",
      "metadata": {
        "id": "mkRN4XHn37wy",
        "colab_type": "code",
        "colab": {}
      },
      "source": [
        "# Import library\n",
        "import numpy as np\n",
        "import matplotlib.pyplot as plt"
      ],
      "execution_count": 0,
      "outputs": []
    },
    {
      "cell_type": "code",
      "metadata": {
        "id": "y-h-CKQp4Zs1",
        "colab_type": "code",
        "colab": {}
      },
      "source": [
        "# Load dataset\n",
        "data = np.loadtxt(open(\"ex1data2.txt\", \"r\"), delimiter=\",\")"
      ],
      "execution_count": 0,
      "outputs": []
    },
    {
      "cell_type": "code",
      "metadata": {
        "id": "_j0Lknn24d7i",
        "colab_type": "code",
        "outputId": "054c273b-990f-4591-bbd3-987eb8e074b1",
        "colab": {
          "base_uri": "https://localhost:8080/",
          "height": 102
        }
      },
      "source": [
        "data[0: 5]"
      ],
      "execution_count": 0,
      "outputs": [
        {
          "output_type": "execute_result",
          "data": {
            "text/plain": [
              "array([[2.104e+03, 3.000e+00, 3.999e+05],\n",
              "       [1.600e+03, 3.000e+00, 3.299e+05],\n",
              "       [2.400e+03, 3.000e+00, 3.690e+05],\n",
              "       [1.416e+03, 2.000e+00, 2.320e+05],\n",
              "       [3.000e+03, 4.000e+00, 5.399e+05]])"
            ]
          },
          "metadata": {
            "tags": []
          },
          "execution_count": 44
        }
      ]
    },
    {
      "cell_type": "code",
      "metadata": {
        "id": "ktsNBdck4gvB",
        "colab_type": "code",
        "outputId": "3c6f1b72-c7ee-4e04-f4a3-e470cb13ff30",
        "colab": {
          "base_uri": "https://localhost:8080/",
          "height": 102
        }
      },
      "source": [
        "# Define X and Y\n",
        "X = data[:, 0:2]  # Size of the house and number of bedroom\n",
        "y = data[:, 2]  # Price of house\n",
        "m = len(y)\n",
        "\n",
        "for i in range(5):\n",
        "  print(\"X = \", X[i, ], \"y =\", y[i])"
      ],
      "execution_count": 0,
      "outputs": [
        {
          "output_type": "stream",
          "text": [
            "X =  [2104.    3.] y = 399900.0\n",
            "X =  [1600.    3.] y = 329900.0\n",
            "X =  [2400.    3.] y = 369000.0\n",
            "X =  [1416.    2.] y = 232000.0\n",
            "X =  [3000.    4.] y = 539900.0\n"
          ],
          "name": "stdout"
        }
      ]
    },
    {
      "cell_type": "code",
      "metadata": {
        "id": "qMWrQqkv42ag",
        "colab_type": "code",
        "colab": {}
      },
      "source": [
        "# Feature normalization\n",
        "def feature_normalize(X):\n",
        "  mu = np.mean(X, axis=0)\n",
        "  sigma = np.std(X, axis=0, ddof=1)\n",
        "  X_norm = (X-mu) / sigma\n",
        "\n",
        "  return X_norm, mu, sigma"
      ],
      "execution_count": 0,
      "outputs": []
    },
    {
      "cell_type": "code",
      "metadata": {
        "id": "j8fvQh1cDx_M",
        "colab_type": "code",
        "colab": {}
      },
      "source": [
        "# Normalize X and add intercept term\n",
        "X, mu, sigma = feature_normalize(X)\n",
        "X = np.hstack((np.ones((m, 1)), X))"
      ],
      "execution_count": 0,
      "outputs": []
    },
    {
      "cell_type": "code",
      "metadata": {
        "id": "o55yndm_GJjw",
        "colab_type": "code",
        "outputId": "eafb68a6-d591-4bff-b10c-6ac70b567d46",
        "colab": {
          "base_uri": "https://localhost:8080/",
          "height": 102
        }
      },
      "source": [
        "X[0:5]"
      ],
      "execution_count": 0,
      "outputs": [
        {
          "output_type": "execute_result",
          "data": {
            "text/plain": [
              "array([[ 1.        ,  0.13000987, -0.22367519],\n",
              "       [ 1.        , -0.50418984, -0.22367519],\n",
              "       [ 1.        ,  0.50247636, -0.22367519],\n",
              "       [ 1.        , -0.73572306, -1.53776691],\n",
              "       [ 1.        ,  1.25747602,  1.09041654]])"
            ]
          },
          "metadata": {
            "tags": []
          },
          "execution_count": 48
        }
      ]
    },
    {
      "cell_type": "code",
      "metadata": {
        "id": "M-V1rGjQGYAF",
        "colab_type": "code",
        "colab": {}
      },
      "source": [
        "# Initialize parameters\n",
        "alpha = 0.15\n",
        "num_iters = 400\n",
        "theta = np.zeros(3)"
      ],
      "execution_count": 0,
      "outputs": []
    },
    {
      "cell_type": "code",
      "metadata": {
        "id": "jZcgou8s445n",
        "colab_type": "code",
        "colab": {}
      },
      "source": [
        "# Compute cost for linear regression\n",
        "def compute_cost_multi(x, y, theta):\n",
        "    \"\"\"\n",
        "    Arguments:\n",
        "    X -- Training data, shape (n_samples, n_features)\n",
        "    y -- Labels, shape (n_samples,)\n",
        "    theta -- Linear regression parameterndarray, shape (n_features,)\n",
        "\n",
        "    Return:\n",
        "    J -- The cost of using theta as the parameter for linear regression\n",
        "         to fit the data points in X and y\n",
        "    \"\"\"\n",
        "    m = len(y)\n",
        "    J = np.sum(np.square(np.dot(x, theta)-y)) / (2.0*m)\n",
        "\n",
        "    return J"
      ],
      "execution_count": 0,
      "outputs": []
    },
    {
      "cell_type": "code",
      "metadata": {
        "id": "7yGX0hiq5FTX",
        "colab_type": "code",
        "colab": {}
      },
      "source": [
        "# Gradient descent to learn theta\n",
        "def gradient_descent_multi(X, y, theta, alpha, num_iters):\n",
        "    \"\"\"\n",
        "    Arguments:\n",
        "    ----------\n",
        "    X -- Training data, shape (n_samples, n_features)\n",
        "    y -- Labels, shape (n_samples,)\n",
        "    theta --  Linear regression parameterndarray, shape (n_features,)\n",
        "    alpha -- Learning rate\n",
        "    num_iters -- Number of iteration\n",
        "\n",
        "    Returns:\n",
        "    theta -- Linear regression parameterndarray, shape (n_features,)\n",
        "    J_history -- Cost history, shape (num_iters,)\n",
        "        \n",
        "    \"\"\"\n",
        "    m = len(y)\n",
        "    J_history = np.zeros(num_iters)\n",
        "\n",
        "    for i in range(num_iters):\n",
        "        theta -= alpha / m * np.dot((np.dot(X, theta) - y).T, X)\n",
        "        J_history[i] = compute_cost_multi(X, y, theta)\n",
        "\n",
        "    return theta, J_history"
      ],
      "execution_count": 0,
      "outputs": []
    },
    {
      "cell_type": "code",
      "metadata": {
        "id": "0E7C6z2vIpgB",
        "colab_type": "code",
        "colab": {}
      },
      "source": [
        "# Run gradient descent\n",
        "theta, J_history = gradient_descent_multi(X, y, theta, alpha, num_iters)"
      ],
      "execution_count": 0,
      "outputs": []
    },
    {
      "cell_type": "code",
      "metadata": {
        "id": "eOnxaKdcI32z",
        "colab_type": "code",
        "outputId": "5124f5d0-5bae-4eeb-bfb3-38ba46e88c9e",
        "colab": {
          "base_uri": "https://localhost:8080/",
          "height": 290
        }
      },
      "source": [
        "# Plot convergence plot\n",
        "import matplotlib.pyplot as plt\n",
        "\n",
        "plt.figure()\n",
        "plt.plot(range(1, num_iters + 1), J_history, color='b')\n",
        "plt.xlabel('Number of iterations')\n",
        "plt.ylabel('Cost J')\n",
        "plt.show()"
      ],
      "execution_count": 0,
      "outputs": [
        {
          "output_type": "display_data",
          "data": {
            "image/png": "[encoded data removed]",
            "text/plain": [
              "<Figure size 432x288 with 1 Axes>"
            ]
          },
          "metadata": {
            "tags": [],
            "needs_background": "light"
          }
        }
      ]
    },
    {
      "cell_type": "code",
      "metadata": {
        "id": "1mxaWvc3JED7",
        "colab_type": "code",
        "outputId": "715458aa-599a-4f35-aa69-f80aa340624b",
        "colab": {
          "base_uri": "https://localhost:8080/",
          "height": 34
        }
      },
      "source": [
        "# Display the theta\n",
        "print(\"Theta computed from gradient descent: \", theta)"
      ],
      "execution_count": 0,
      "outputs": [
        {
          "output_type": "stream",
          "text": [
            "Theta computed from gradient descent:  [340412.65957447 110631.0502787   -6649.47427067]\n"
          ],
          "name": "stdout"
        }
      ]
    },
    {
      "cell_type": "code",
      "metadata": {
        "id": "Hp4UgwBfJ-by",
        "colab_type": "code",
        "outputId": "2c5da80e-77a7-4383-a5bd-f733b3ae0dbb",
        "colab": {
          "base_uri": "https://localhost:8080/",
          "height": 34
        }
      },
      "source": [
        "# Estimate the price of a 1650 size and 3 bed room house\n",
        "normalize_test_data = ((np.array([1650, 3])-mu) / sigma)\n",
        "normalize_test_data = np.hstack((np.ones(1), normalize_test_data))\n",
        "price = np.dot(normalize_test_data, theta)\n",
        "print(\"House price: \", price)"
      ],
      "execution_count": 0,
      "outputs": [
        {
          "output_type": "stream",
          "text": [
            "House price:  293081.46433492796\n"
          ],
          "name": "stdout"
        }
      ]
    },
    {
      "cell_type": "code",
      "metadata": {
        "id": "9y1vITnJ5HVA",
        "colab_type": "code",
        "colab": {}
      },
      "source": [
        "# Compute parameta theta by using normal equation\n",
        "data = np.loadtxt(open(\"ex1data2.txt\", \"r\"), delimiter=\",\")\n",
        "X = data[:, 0:2]\n",
        "y = data[:, 2]\n",
        "m = len(y)\n",
        "\n",
        "# Add intercept term to X\n",
        "X = np.hstack((np.ones((m, 1)), X))"
      ],
      "execution_count": 0,
      "outputs": []
    },
    {
      "cell_type": "code",
      "metadata": {
        "id": "ZUHNop4NL9Cw",
        "colab_type": "code",
        "colab": {}
      },
      "source": [
        "# Normal equation\n",
        "def normal_equation(X, y):\n",
        "  theta = np.dot(np.dot(np.linalg.pinv(np.dot(X.T, X)), X.T), y)\n",
        "  return theta"
      ],
      "execution_count": 0,
      "outputs": []
    },
    {
      "cell_type": "code",
      "metadata": {
        "id": "xvwlbzt-OA7w",
        "colab_type": "code",
        "outputId": "7b2beb93-4371-4f32-92d4-eca51022162f",
        "colab": {
          "base_uri": "https://localhost:8080/",
          "height": 34
        }
      },
      "source": [
        "theta = normal_equation(X, y)\n",
        "print(\"Theta computed from the normal equations: \", theta)"
      ],
      "execution_count": 0,
      "outputs": [
        {
          "output_type": "stream",
          "text": [
            "Theta computed from the normal equations:  [89597.90954355   139.21067402 -8738.01911255]\n"
          ],
          "name": "stdout"
        }
      ]
    },
    {
      "cell_type": "code",
      "metadata": {
        "id": "cWBkjIixOQky",
        "colab_type": "code",
        "outputId": "278416f1-6209-4840-fed1-af79cf72944d",
        "colab": {
          "base_uri": "https://localhost:8080/",
          "height": 34
        }
      },
      "source": [
        "# Estimate the price of a 1650 size and 3 bed room house\n",
        "price = np.dot(np.array([1, 1650, 3]), theta)\n",
        "print(\"House price: \", price)"
      ],
      "execution_count": 0,
      "outputs": [
        {
          "output_type": "stream",
          "text": [
            "House price:  293081.4643349717\n"
          ],
          "name": "stdout"
        }
      ]
    },
    {
      "cell_type": "code",
      "metadata": {
        "id": "l8tzhZqOO-Qq",
        "colab_type": "code",
        "colab": {}
      },
      "source": [
        ""
      ],
      "execution_count": 0,
      "outputs": []
    }
  ]
}