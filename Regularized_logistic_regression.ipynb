{
 "cells": [
  {
   "cell_type": "code",
   "execution_count": 67,
   "metadata": {},
   "outputs": [],
   "source": [
    "# Import library\n",
    "import numpy as np\n",
    "import pandas as pd\n",
    "import matplotlib.pyplot as plt"
   ]
  },
  {
   "cell_type": "code",
   "execution_count": 68,
   "metadata": {},
   "outputs": [],
   "source": [
    "# Import training data set\n",
    "data = np.loadtxt(open(\"ex2data2.txt\", \"r\"), delimiter=\",\")\n",
    "X = data[:, 0:2]\n",
    "y = data[:, 2]"
   ]
  },
  {
   "cell_type": "code",
   "execution_count": 69,
   "metadata": {},
   "outputs": [],
   "source": [
    "# Plot data\n",
    "def plot_data(X, y):\n",
    "    pos = data[:, 2] == 1\n",
    "    neg = data[:, 2] == 0\n",
    "        \n",
    "    fig = plt.figure()\n",
    "\n",
    "    plt.plot(X[pos, 0], X[pos, 1], 'k*', lw=2, ms=10)\n",
    "    plt.plot(X[neg, 0], X[neg, 1], 'ko', mfc='y', ms=8, mec='k', mew=1)"
   ]
  },
  {
   "cell_type": "code",
   "execution_count": 71,
   "metadata": {},
   "outputs": [
    {
     "data": {
      "text/plain": [
       "<matplotlib.legend.Legend at 0x8f6b9f0e88>"
      ]
     },
     "execution_count": 71,
     "metadata": {},
     "output_type": "execute_result"
    },
    {
     "data": {
      "image/png": "[encoded data removed]",
      "text/plain": [
       "<Figure size 432x288 with 1 Axes>"
      ]
     },
     "metadata": {
      "needs_background": "light"
     },
     "output_type": "display_data"
    }
   ],
   "source": [
    "plotData(X, y)\n",
    "\n",
    "# add axes labels\n",
    "plt.xlabel('Microchip Test 1')\n",
    "plt.ylabel('Microchip Test 2')\n",
    "plt.legend(['Accepted', 'Rejected'])"
   ]
  },
  {
   "cell_type": "code",
   "execution_count": 72,
   "metadata": {},
   "outputs": [
    {
     "name": "stdout",
     "output_type": "stream",
     "text": [
      "X shape: (118, 2)\n",
      "y shape: (118,)\n"
     ]
    }
   ],
   "source": [
    "print (\"X shape: \" + str(X.shape))\n",
    "print (\"y shape: \" + str(y.shape))"
   ]
  },
  {
   "cell_type": "code",
   "execution_count": 73,
   "metadata": {},
   "outputs": [
    {
     "data": {
      "text/plain": [
       "(118, 28)"
      ]
     },
     "execution_count": 73,
     "metadata": {},
     "output_type": "execute_result"
    }
   ],
   "source": [
    "# Feature mapping to polynomial features\n",
    "from sklearn.preprocessing import PolynomialFeatures\n",
    "poly = PolynomialFeatures(6)\n",
    "poly_feat_X = poly.fit_transform(X)\n",
    "poly_feat_X.shape"
   ]
  },
  {
   "cell_type": "code",
   "execution_count": 74,
   "metadata": {},
   "outputs": [],
   "source": [
    "# Sigmoid function\n",
    "def sigmoid(z):\n",
    "    g = 1/(1+np.exp(-z))\n",
    "    return g"
   ]
  },
  {
   "cell_type": "code",
   "execution_count": 75,
   "metadata": {},
   "outputs": [],
   "source": [
    "# Cost function with regularization\n",
    "def cost_function_with_regularization(theta, X, y, lambd):\n",
    "    m = y.shape[0]\n",
    "    J = 0\n",
    "    grad = np.zeros(theta.shape)\n",
    "    \n",
    "    h = sigmoid(np.dot(X, theta.T))\n",
    "    \n",
    "    J = (1/m) * np.sum(np.dot((-y), np.log(h)) - np.dot((1-y), np.log(1-h))) + (lambd/(2*m))*np.sum(np.square(theta[1:]))\n",
    " \n",
    "    return J"
   ]
  },
  {
   "cell_type": "code",
   "execution_count": 76,
   "metadata": {},
   "outputs": [],
   "source": [
    "# Gradient function with regularization\n",
    "def gradient_with_regularization(theta, X, y, lambd):\n",
    "    m = y.shape[0]\n",
    "    J = 0\n",
    "    grad = np.zeros(theta.shape)\n",
    "    \n",
    "    h = sigmoid(np.dot(X, theta.T))\n",
    "    \n",
    "    grad = (1/m) * np.dot((h-y), X) + (lambd/m)*theta\n",
    " \n",
    "    return grad"
   ]
  },
  {
   "cell_type": "code",
   "execution_count": 91,
   "metadata": {},
   "outputs": [
    {
     "name": "stdout",
     "output_type": "stream",
     "text": [
      "Cost at initial theta: 0.6931471805599454\n",
      "Gradient at initial theta: [8.47457627e-03 1.87880932e-02 7.77711864e-05 5.03446395e-02\n",
      " 1.15013308e-02 3.76648474e-02 1.83559872e-02 7.32393391e-03\n",
      " 8.19244468e-03 2.34764889e-02 3.93486234e-02 2.23923907e-03\n",
      " 1.28600503e-02 3.09593720e-03 3.93028171e-02 1.99707467e-02\n",
      " 4.32983232e-03 3.38643902e-03 5.83822078e-03 4.47629067e-03\n",
      " 3.10079849e-02 3.10312442e-02 1.09740238e-03 6.31570797e-03\n",
      " 4.08503006e-04 7.26504316e-03 1.37646175e-03 3.87936363e-02]\n"
     ]
    }
   ],
   "source": [
    "# Initialize fitting parameters\n",
    "initial_theta = np.zeros(poly_feat_X.shape[1])\n",
    "\n",
    "lambd = 1\n",
    "J = cost_function_with_regularization(initial_theta, poly_feat_X, y, lambd)\n",
    "grad = gradient_with_regularization(initial_theta, poly_feat_X, y, lambd)\n",
    "\n",
    "print (\"Cost at initial theta: \" + str(J))\n",
    "print (\"Gradient at initial theta: \" + str(grad))"
   ]
  },
  {
   "cell_type": "code",
   "execution_count": 92,
   "metadata": {},
   "outputs": [],
   "source": [
    "# Optimize cost function\n",
    "from scipy.optimize import minimize\n",
    "\n",
    "res = minimize(cost_function_with_regularization,\n",
    "               initial_theta,\n",
    "               args=(poly_feat_X,y, lambd),\n",
    "               method=None,\n",
    "               jac=gradient_with_regularization,\n",
    "               options={'maxiter':400})\n",
    "\n",
    "cost = res.fun\n",
    "theta = res.x  # rex.x -- optimized theta values"
   ]
  },
  {
   "cell_type": "code",
   "execution_count": 93,
   "metadata": {},
   "outputs": [],
   "source": [
    "# Predict function\n",
    "def predict(theta, X, threshold=0.5):\n",
    "    p = sigmoid(np.dot(X, theta.T)) >= threshold\n",
    "    return(p.astype('int'))"
   ]
  },
  {
   "cell_type": "code",
   "execution_count": 90,
   "metadata": {},
   "outputs": [
    {
     "name": "stdout",
     "output_type": "stream",
     "text": [
      "Train Accuracy: 88.13559322033899\n"
     ]
    }
   ],
   "source": [
    "p = predict(theta, poly_feat_X)\n",
    "accuracy = 100*sum(p == y.ravel())/p.size\n",
    "print('Train Accuracy: ' + str(accuracy))"
   ]
  },
  {
   "cell_type": "code",
   "execution_count": null,
   "metadata": {},
   "outputs": [],
   "source": [
    "# Plot decision boundary\n",
    "def plotDecisionBoundary(theta,X,y):\n",
    "    fig, ax = plotData(X[:,1:],y)\n",
    "\n",
    "    u = np.linspace(-1,1.5,50)\n",
    "    v = np.linspace(-1,1.5,50)\n",
    "    z = np.zeros((len(u),len(v)))\n",
    "    \n",
    "    # Evaluate z = theta*x over values in the gridspace\n",
    "    for i in range(len(u)):\n",
    "        for j in range(len(v)):\n",
    "            z[i][j] = np.dot(mapFeatureVector(np.array([u[i]]), np.array([v[j]])),theta)\n",
    "    \n",
    "    # Plot contour\n",
    "    ax.contour(u,v,z,levels=[0])\n",
    "\n",
    "    return (fig,ax)"
   ]
  }
 ],
 "metadata": {
  "kernelspec": {
   "display_name": "Python 3",
   "language": "python",
   "name": "python3"
  },
  "language_info": {
   "codemirror_mode": {
    "name": "ipython",
    "version": 3
   },
   "file_extension": ".py",
   "mimetype": "text/x-python",
   "name": "python",
   "nbconvert_exporter": "python",
   "pygments_lexer": "ipython3",
   "version": "3.7.4"
  }
 },
 "nbformat": 4,
 "nbformat_minor": 2
}
