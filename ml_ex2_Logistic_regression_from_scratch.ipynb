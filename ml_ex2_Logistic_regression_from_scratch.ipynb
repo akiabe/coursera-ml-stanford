{
  "nbformat": 4,
  "nbformat_minor": 0,
  "metadata": {
    "colab": {
      "name": "ml_ex2_Logistic_regression_from_scratch.ipynb",
      "provenance": [],
      "authorship_tag": "ABX9TyMrn04CxaCoXehzNF86kPCh",
      "include_colab_link": true
    },
    "kernelspec": {
      "name": "python3",
      "display_name": "Python 3"
    }
  },
  "cells": [
    {
      "cell_type": "markdown",
      "metadata": {
        "id": "view-in-github",
        "colab_type": "text"
      },
      "source": [
        "<a href=\"https://colab.research.google.com/github/akiabe/coursera-ml-stanford/blob/master/ml_ex2_Logistic_regression_from_scratch.ipynb\" target=\"_parent\"><img src=\"https://colab.research.google.com/assets/colab-badge.svg\" alt=\"Open In Colab\"/></a>"
      ]
    },
    {
      "cell_type": "markdown",
      "metadata": {
        "id": "Ykl2345PG_Om",
        "colab_type": "text"
      },
      "source": [
        "**Build logistic regresion from scratch**\n",
        "\n",
        "\n",
        "Data set: 2 exams score of university applicant's \n",
        "\n",
        "Predict: Estimate probability of admission"
      ]
    },
    {
      "cell_type": "code",
      "metadata": {
        "id": "QoRvAf1UGXky",
        "colab_type": "code",
        "colab": {}
      },
      "source": [
        "# Package imports\n",
        "import numpy as np\n",
        "from scipy.optimize import minimize\n",
        "import matplotlib.pyplot as plt\n",
        "%matplotlib inline"
      ],
      "execution_count": 0,
      "outputs": []
    },
    {
      "cell_type": "code",
      "metadata": {
        "id": "-rbZCcFqJ25d",
        "colab_type": "code",
        "colab": {
          "base_uri": "https://localhost:8080/",
          "height": 51
        },
        "outputId": "ea818d2a-c80b-4a6e-82c4-0aada203bddb"
      },
      "source": [
        "# Load training data set\n",
        "data = np.loadtxt(open(\"ex2data1.txt\", \"r\"), delimiter=\",\")\n",
        "X = data[:, 0:2]\n",
        "y = data[:, 2]\n",
        "print (\"X shape: \" + str(X.shape))\n",
        "print (\"y shape: \" + str(y.shape))"
      ],
      "execution_count": 17,
      "outputs": [
        {
          "output_type": "stream",
          "text": [
            "X shape: (100, 2)\n",
            "y shape: (100,)\n"
          ],
          "name": "stdout"
        }
      ]
    },
    {
      "cell_type": "code",
      "metadata": {
        "id": "z9wrFnxAKCk9",
        "colab_type": "code",
        "colab": {
          "base_uri": "https://localhost:8080/",
          "height": 51
        },
        "outputId": "b7bcaf23-9221-4bc7-858a-3d7799edd4be"
      },
      "source": [
        "# Add intercept term to X\n",
        "m = X.shape[0]\n",
        "X = np.concatenate([np.ones((m, 1)), X], axis=1)\n",
        "print (\"X shape: \" + str(X.shape))\n",
        "print (\"y shape: \" + str(y.shape))"
      ],
      "execution_count": 18,
      "outputs": [
        {
          "output_type": "stream",
          "text": [
            "X shape: (100, 3)\n",
            "y shape: (100,)\n"
          ],
          "name": "stdout"
        }
      ]
    },
    {
      "cell_type": "code",
      "metadata": {
        "id": "97xfJRbvJJj8",
        "colab_type": "code",
        "colab": {}
      },
      "source": [
        "# Sigmoid function\n",
        "def sigmoid(x):\n",
        "  s = 1/(1+np.exp(-x))\n",
        "  return s"
      ],
      "execution_count": 0,
      "outputs": []
    },
    {
      "cell_type": "code",
      "metadata": {
        "id": "Ichen6khJzjC",
        "colab_type": "code",
        "colab": {}
      },
      "source": [
        "# Cost function\n",
        "def cost_function(theta, X, y):\n",
        "  m = X.shape[0]\n",
        "  J = 0\n",
        "  h = sigmoid(np.dot(X, theta.T))\n",
        "  J = (1/m)*np.sum(np.dot((-y), np.log(h))-np.dot((1-y), np.log(1-h)))\n",
        "  return J"
      ],
      "execution_count": 0,
      "outputs": []
    },
    {
      "cell_type": "code",
      "metadata": {
        "id": "3pl4mbnfKYgm",
        "colab_type": "code",
        "colab": {}
      },
      "source": [
        "# Gradient of cost\n",
        "def gradient_of_cost(theta, X, y):\n",
        "  m = X.shape[0]\n",
        "  J = 0\n",
        "  grad = np.zeros((theta.shape))\n",
        "  h = sigmoid(np.dot(X, theta.T))\n",
        "  grad = (1/m)*(np.dot((h-y), X))\n",
        "  return grad"
      ],
      "execution_count": 0,
      "outputs": []
    },
    {
      "cell_type": "code",
      "metadata": {
        "id": "e063ZuxCY3nd",
        "colab_type": "code",
        "colab": {
          "base_uri": "https://localhost:8080/",
          "height": 51
        },
        "outputId": "f5f02c46-556e-4390-eb9e-96766da43be1"
      },
      "source": [
        "# Initialize fitting parameters\n",
        "initial_theta = np.zeros(X.shape[1])\n",
        "J = cost_function(initial_theta, X, y)\n",
        "grad = gradient_of_cost(initial_theta, X, y)\n",
        "\n",
        "print (\"Cost at initial theta: \" + str(J))\n",
        "print (\"Gradient at initial theta: \" + str(grad))"
      ],
      "execution_count": 22,
      "outputs": [
        {
          "output_type": "stream",
          "text": [
            "Cost at initial theta: 0.6931471805599453\n",
            "Gradient at initial theta: [ -0.1        -12.00921659 -11.26284221]\n"
          ],
          "name": "stdout"
        }
      ]
    },
    {
      "cell_type": "code",
      "metadata": {
        "id": "DJJB39QKKbEE",
        "colab_type": "code",
        "colab": {
          "base_uri": "https://localhost:8080/",
          "height": 51
        },
        "outputId": "e7cdda23-e0cb-4721-8301-e2029ea6490f"
      },
      "source": [
        "# Optimize cost function\n",
        "res = minimize(cost_function,\n",
        "               initial_theta,\n",
        "               args=(X,y),\n",
        "               method=None,\n",
        "               jac=gradient_of_cost,\n",
        "               options={'maxiter':400});\n",
        "\n",
        "cost = res.fun\n",
        "theta = res.x  # rex.x -- optimized theta values"
      ],
      "execution_count": 24,
      "outputs": [
        {
          "output_type": "stream",
          "text": [
            "/usr/local/lib/python3.6/dist-packages/ipykernel_launcher.py:6: RuntimeWarning: divide by zero encountered in log\n",
            "  \n"
          ],
          "name": "stderr"
        }
      ]
    },
    {
      "cell_type": "code",
      "metadata": {
        "id": "kz66MbOxKla0",
        "colab_type": "code",
        "colab": {}
      },
      "source": [
        "# Predict\n",
        "def predict(theta, X):\n",
        "  m = X.shape[0]\n",
        "  p = np.zeros(m)\n",
        "  p = np.round(sigmoid(np.dot(X, theta.T)))\n",
        "  return p"
      ],
      "execution_count": 0,
      "outputs": []
    },
    {
      "cell_type": "code",
      "metadata": {
        "id": "yQ-U0gkAdQPg",
        "colab_type": "code",
        "colab": {
          "base_uri": "https://localhost:8080/",
          "height": 34
        },
        "outputId": "a0e1cc7b-0b35-42bf-de9e-19790ad5b112"
      },
      "source": [
        "# Predict admission probability of student with Exam 1 score 45 and Exam 2 score 85\n",
        "sigmoid(np.dot(np.array([1, 45, 85]), theta.T))"
      ],
      "execution_count": 34,
      "outputs": [
        {
          "output_type": "execute_result",
          "data": {
            "text/plain": [
              "0.7762907240588949"
            ]
          },
          "metadata": {
            "tags": []
          },
          "execution_count": 34
        }
      ]
    },
    {
      "cell_type": "code",
      "metadata": {
        "id": "MAdoigwgdYVw",
        "colab_type": "code",
        "colab": {
          "base_uri": "https://localhost:8080/",
          "height": 34
        },
        "outputId": "433b2ff7-7594-4b40-9fe6-d95a06b49e79"
      },
      "source": [
        "p = predict(theta, X) \n",
        "accuracy = np.mean(p==y)*100\n",
        "print (\"% of train accuracy: \" + str(accuracy))"
      ],
      "execution_count": 35,
      "outputs": [
        {
          "output_type": "stream",
          "text": [
            "% of train accuracy: 89.0\n"
          ],
          "name": "stdout"
        }
      ]
    },
    {
      "cell_type": "code",
      "metadata": {
        "id": "SRxS3QpGdr-Z",
        "colab_type": "code",
        "colab": {}
      },
      "source": [
        ""
      ],
      "execution_count": 0,
      "outputs": []
    }
  ]
}