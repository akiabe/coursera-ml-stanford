{
  "nbformat": 4,
  "nbformat_minor": 0,
  "metadata": {
    "colab": {
      "name": "ml_ex2_Logistic_regression_from_scratch.ipynb",
      "provenance": [],
      "authorship_tag": "ABX9TyPpGTxfriYxGO+IZimnoy3r",
      "include_colab_link": true
    },
    "kernelspec": {
      "name": "python3",
      "display_name": "Python 3"
    }
  },
  "cells": [
    {
      "cell_type": "markdown",
      "metadata": {
        "id": "view-in-github",
        "colab_type": "text"
      },
      "source": [
        "<a href=\"https://colab.research.google.com/github/akiabe/coursera-ml-stanford/blob/master/ml_ex2_Logistic_regression_from_scratch.ipynb\" target=\"_parent\"><img src=\"https://colab.research.google.com/assets/colab-badge.svg\" alt=\"Open In Colab\"/></a>"
      ]
    },
    {
      "cell_type": "markdown",
      "metadata": {
        "id": "Ykl2345PG_Om",
        "colab_type": "text"
      },
      "source": [
        "**Build logistic regresion from scratch**"
      ]
    },
    {
      "cell_type": "code",
      "metadata": {
        "id": "-rbZCcFqJ25d",
        "colab_type": "code",
        "outputId": "afed0ccd-8052-43fa-8c11-39c58b19fb3a",
        "colab": {
          "base_uri": "https://localhost:8080/",
          "height": 52
        }
      },
      "source": [
        "import numpy as np\n",
        "\n",
        "# Load training data set\n",
        "data = np.loadtxt(open(\"ex2data1.txt\", \"r\"), delimiter=\",\")\n",
        "X = data[:, 0:2]\n",
        "y = data[:, 2]\n",
        "print (\"X shape: \" + str(X.shape))\n",
        "print (\"y shape: \" + str(y.shape))"
      ],
      "execution_count": 1,
      "outputs": [
        {
          "output_type": "stream",
          "text": [
            "X shape: (100, 2)\n",
            "y shape: (100,)\n"
          ],
          "name": "stdout"
        }
      ]
    },
    {
      "cell_type": "code",
      "metadata": {
        "id": "RPdOtYRIeC9g",
        "colab_type": "code",
        "outputId": "d3a285a9-fb35-46d6-d3da-50b912c233ea",
        "colab": {
          "base_uri": "https://localhost:8080/",
          "height": 105
        }
      },
      "source": [
        "X[0:5, 0:2]"
      ],
      "execution_count": 2,
      "outputs": [
        {
          "output_type": "execute_result",
          "data": {
            "text/plain": [
              "array([[34.62365962, 78.02469282],\n",
              "       [30.28671077, 43.89499752],\n",
              "       [35.84740877, 72.90219803],\n",
              "       [60.18259939, 86.3085521 ],\n",
              "       [79.03273605, 75.34437644]])"
            ]
          },
          "metadata": {
            "tags": []
          },
          "execution_count": 2
        }
      ]
    },
    {
      "cell_type": "code",
      "metadata": {
        "id": "TuLrwpr-eMkO",
        "colab_type": "code",
        "outputId": "cba54e6a-63ee-434e-9090-8fc227d5f12e",
        "colab": {
          "base_uri": "https://localhost:8080/",
          "height": 123
        }
      },
      "source": [
        "y"
      ],
      "execution_count": 3,
      "outputs": [
        {
          "output_type": "execute_result",
          "data": {
            "text/plain": [
              "array([0., 0., 0., 1., 1., 0., 1., 1., 1., 1., 0., 0., 1., 1., 0., 1., 1.,\n",
              "       0., 1., 1., 0., 1., 0., 0., 1., 1., 1., 0., 0., 0., 1., 1., 0., 1.,\n",
              "       0., 0., 0., 1., 0., 0., 1., 0., 1., 0., 0., 0., 1., 1., 1., 1., 1.,\n",
              "       1., 1., 0., 0., 0., 1., 0., 1., 1., 1., 0., 0., 0., 0., 0., 1., 0.,\n",
              "       1., 1., 0., 1., 1., 1., 1., 1., 1., 1., 0., 0., 1., 1., 1., 1., 1.,\n",
              "       1., 0., 1., 1., 0., 1., 1., 0., 1., 1., 1., 1., 1., 1., 1.])"
            ]
          },
          "metadata": {
            "tags": []
          },
          "execution_count": 3
        }
      ]
    },
    {
      "cell_type": "code",
      "metadata": {
        "id": "ot0twKZkcjnX",
        "colab_type": "code",
        "colab": {}
      },
      "source": [
        "import matplotlib.pyplot as plt\n",
        "%matplotlib inline\n",
        "\n",
        "# Plotting data\n",
        "def plot_data(X, y):\n",
        "  \"\"\"\n",
        "  Arguments:\n",
        "  X -- Data of X axis (n, 2)\n",
        "  y -- Data of y axis (n,)\n",
        "\n",
        "  \"\"\"\n",
        "  pos = np.argwhere(y == 1)\n",
        "  neg = np.argwhere(y == 0)\n",
        "  \n",
        "  plt.plot(X[pos, 0], X[pos, 1], linestyle='', marker='+', color='k')\n",
        "  plt.plot(X[neg, 0], X[neg, 1], linestyle='', marker='o', color='y')"
      ],
      "execution_count": 0,
      "outputs": []
    },
    {
      "cell_type": "code",
      "metadata": {
        "id": "4VQ5bYDpeuKX",
        "colab_type": "code",
        "outputId": "7f98ac12-c225-41a6-92c0-19a9df9caed0",
        "colab": {
          "base_uri": "https://localhost:8080/",
          "height": 283
        }
      },
      "source": [
        "plt.figure()\n",
        "plot_data(X, y)\n",
        "\n",
        "plt.xlabel('Exam 1 score')\n",
        "plt.ylabel('Exam 2 score')\n",
        "plt.xlim([30, 100])\n",
        "plt.ylim([30, 100])\n",
        "plt.legend(['Admitted', 'Not admitted'], loc='upper right', numpoints=1)\n",
        "plt.show()"
      ],
      "execution_count": 5,
      "outputs": [
        {
          "output_type": "display_data",
          "data": {
            "image/png": "[encoded data removed]",
            "text/plain": [
              "<Figure size 432x288 with 1 Axes>"
            ]
          },
          "metadata": {
            "tags": [],
            "needs_background": "light"
          }
        }
      ]
    },
    {
      "cell_type": "code",
      "metadata": {
        "id": "z9wrFnxAKCk9",
        "colab_type": "code",
        "outputId": "d45bba07-94a4-4485-f997-efcdbb23af2f",
        "colab": {
          "base_uri": "https://localhost:8080/",
          "height": 52
        }
      },
      "source": [
        "# Setup the data matrix appropriately, and add ones for the intercept term\n",
        "m, n = X.shape\n",
        "# Add intercept term to x and X_test\n",
        "X = np.hstack((np.ones((m, 1)), X))\n",
        "# Initialize fitting parameters\n",
        "theta = np.zeros(n + 1) \n",
        "\n",
        "print (\"X shape: \" + str(X.shape))\n",
        "print (\"y shape: \" + str(y.shape))"
      ],
      "execution_count": 6,
      "outputs": [
        {
          "output_type": "stream",
          "text": [
            "X shape: (100, 3)\n",
            "y shape: (100,)\n"
          ],
          "name": "stdout"
        }
      ]
    },
    {
      "cell_type": "code",
      "metadata": {
        "id": "97xfJRbvJJj8",
        "colab_type": "code",
        "colab": {}
      },
      "source": [
        "# Sigmoid function\n",
        "def sigmoid(x):\n",
        "  s = 1/(1+np.exp(-x))\n",
        "  return s"
      ],
      "execution_count": 0,
      "outputs": []
    },
    {
      "cell_type": "code",
      "metadata": {
        "id": "Ichen6khJzjC",
        "colab_type": "code",
        "colab": {}
      },
      "source": [
        "# Compute cost and gradient\n",
        "def cost_function(theta, X, y):\n",
        "  m, n = X.shape\n",
        "\n",
        "  h = sigmoid(np.dot(X, theta.T))\n",
        "  J = (1/m) * np.sum(np.dot((-y), np.log(h))-np.dot((1-y), np.log(1-h)))\n",
        "  grad = (1/m) * (np.dot((h-y), X))\n",
        "  \n",
        "  return J, grad"
      ],
      "execution_count": 0,
      "outputs": []
    },
    {
      "cell_type": "code",
      "metadata": {
        "id": "e063ZuxCY3nd",
        "colab_type": "code",
        "outputId": "30e79a7c-4f10-409c-e412-955bafd65e01",
        "colab": {
          "base_uri": "https://localhost:8080/",
          "height": 52
        }
      },
      "source": [
        "cost, grad = cost_function(theta, X, y)\n",
        "\n",
        "print (\"Cost at initial theta (zeros): \", cost)\n",
        "print (\"Gradient at initial theta (zeros): \", grad)"
      ],
      "execution_count": 9,
      "outputs": [
        {
          "output_type": "stream",
          "text": [
            "Cost at initial theta (zeros):  0.6931471805599453\n",
            "Gradient at initial theta (zeros):  [ -0.1        -12.00921659 -11.26284221]\n"
          ],
          "name": "stdout"
        }
      ]
    },
    {
      "cell_type": "code",
      "metadata": {
        "id": "DJJB39QKKbEE",
        "colab_type": "code",
        "outputId": "22cc6f2c-d4cb-4821-c816-7f98903a4d91",
        "colab": {
          "base_uri": "https://localhost:8080/",
          "height": 52
        }
      },
      "source": [
        "# Optimize cost function\n",
        "import scipy.optimize as opt\n",
        "\n",
        "theta, nfeval, rc = opt.fmin_tnc(func=cost_function, x0=theta, args=(X, y))\n",
        "\n",
        "cost, _ = cost_function(theta, X, y)\n",
        "print(\"Cost at theta found by fminunc :\", cost)\n",
        "print(\"theta :\", theta)"
      ],
      "execution_count": 10,
      "outputs": [
        {
          "output_type": "stream",
          "text": [
            "Cost at theta found by fminunc : 0.203497701589475\n",
            "theta : [-25.16131851   0.20623159   0.20147148]\n"
          ],
          "name": "stdout"
        }
      ]
    },
    {
      "cell_type": "code",
      "metadata": {
        "id": "Oax_bAOCFWsq",
        "colab_type": "code",
        "colab": {}
      },
      "source": [
        "def map_feature(X1, X2):\n",
        "\n",
        "    \"\"\"\n",
        "    Feature mapping function to polynomial features\n",
        "    \n",
        "    Arguments:\n",
        "    X1 -- Input feature (n_samples,)\n",
        "    X2 -- Input feature (n_samples,)\n",
        "    \n",
        "    Returns:\n",
        "    Out -- New feature array with more features, comprising of X1, X2, X1.^2, X2.^2, X1*X2, X1*X2.^2, etc..\n",
        "           (n_samples, 28)\n",
        "    \"\"\"\n",
        "    degree = 6\n",
        "    Out = np.ones(len(X1))\n",
        "\n",
        "    for i in range(1, degree + 1):\n",
        "        for j in range(0, i + 1):\n",
        "            tmp = np.power(X1, i - j) * np.power(X2, j)\n",
        "            Out = np.vstack((Out, tmp))\n",
        "    return Out.T"
      ],
      "execution_count": 0,
      "outputs": []
    },
    {
      "cell_type": "code",
      "metadata": {
        "id": "ex7BaK5yFL2u",
        "colab_type": "code",
        "colab": {}
      },
      "source": [
        "def plot_decision_boundary(theta, X, y):\n",
        "    \"\"\"\n",
        "    Plots the data points X and y into a new figure with the decision boundary defined by theta\n",
        "    \n",
        "    Arguments:\n",
        "    theta -- Linear regression parameter (n_features,)\n",
        "    X -- Training data, where n_samples is the number of samples and n_features is the number of features.\n",
        "         (n_samples, n_features)\n",
        "    y -- Labels (n_samples,)\n",
        "\n",
        "    \"\"\"\n",
        "    if X.shape[1] <= 3:\n",
        "        plot_X = np.array([np.amin(X[:, 1]) - 2, np.amax(X[:, 1]) + 2])\n",
        "        plot_y = -1.0 / theta[2] * (theta[1] * plot_X + theta[0])\n",
        "        plt.plot(plot_X, plot_y)\n",
        "    else:\n",
        "        u = np.linspace(-1, 1.5, 50)\n",
        "        # u.resize((len(u), 1))\n",
        "        v = np.linspace(-1, 1.5, 50)\n",
        "        # v.resize((len(v), 1))\n",
        "        z = np.zeros((len(u), len(v)))\n",
        "        for i in range(len(u)):\n",
        "            for j in range(len(v)):\n",
        "                z[i, j] = map_feature(u[i:i+1], v[j:j+1]).dot(theta)\n",
        "        z = z.T\n",
        "        u, v = np.meshgrid(u, v)\n",
        "        cs = plt.contour(u, v, z, levels=[0])\n",
        "        fmt = {}\n",
        "        strs = ['Decision boundary']\n",
        "        for l, s in zip(cs.levels, strs):\n",
        "            fmt[l] = s\n",
        "\n",
        "        plt.clabel(cs, cs.levels[::2], inline=True, fmt=fmt, fontsize=10)"
      ],
      "execution_count": 0,
      "outputs": []
    },
    {
      "cell_type": "code",
      "metadata": {
        "id": "afHxNLcGF-sJ",
        "colab_type": "code",
        "colab": {
          "base_uri": "https://localhost:8080/",
          "height": 283
        },
        "outputId": "61b9f264-dcbc-46ad-ab86-8aed23281b19"
      },
      "source": [
        "plt.figure()\n",
        "plot_data(X[:, 1:], y)\n",
        "plt.xlabel('Exam 1 score')\n",
        "plt.ylabel('Exam 2 score')\n",
        "plt.xlim([30, 100])\n",
        "plt.ylim([30, 100])\n",
        "plt.legend(['Admitted', 'Not admitted'], loc='upper right', numpoints=1)\n",
        "\n",
        "# Plot Boundary\n",
        "plot_decision_boundary(theta, X, y)\n",
        "plt.show()"
      ],
      "execution_count": 16,
      "outputs": [
        {
          "output_type": "display_data",
          "data": {
            "image/png": "[encoded data removed]",
            "text/plain": [
              "<Figure size 432x288 with 1 Axes>"
            ]
          },
          "metadata": {
            "tags": [],
            "needs_background": "light"
          }
        }
      ]
    },
    {
      "cell_type": "code",
      "metadata": {
        "id": "QHktuGRYlwU1",
        "colab_type": "code",
        "outputId": "e4a3b36b-dbfd-49ce-e75c-15c112c876c1",
        "colab": {
          "base_uri": "https://localhost:8080/",
          "height": 34
        }
      },
      "source": [
        "# Predict probability for a student with score 45 on exam 1 and score 85 on exam 2\n",
        "prob = sigmoid(np.dot(np.array([1, 45, 85]), theta))\n",
        "print(\"For a student with scores 45 and 85, we predict an admission probability of\", prob)"
      ],
      "execution_count": 11,
      "outputs": [
        {
          "output_type": "stream",
          "text": [
            "For a student with scores 45 and 85, we predict an admission probability of 0.7762906214285727\n"
          ],
          "name": "stdout"
        }
      ]
    },
    {
      "cell_type": "code",
      "metadata": {
        "id": "kz66MbOxKla0",
        "colab_type": "code",
        "colab": {}
      },
      "source": [
        "# The predict() predicts the input data with learned logistic regression parameters\n",
        "def predict(theta, X):\n",
        "  m = X.shape[0]\n",
        "  p = np.zeros(m)\n",
        "  p = np.round(sigmoid(np.dot(X, theta.T)))\n",
        "  return p"
      ],
      "execution_count": 0,
      "outputs": []
    },
    {
      "cell_type": "code",
      "metadata": {
        "id": "MAdoigwgdYVw",
        "colab_type": "code",
        "outputId": "2eca7c80-1432-4186-fba3-b07bc1d32cee",
        "colab": {
          "base_uri": "https://localhost:8080/",
          "height": 34
        }
      },
      "source": [
        "p = predict(theta, X) \n",
        "accuracy = np.mean(p==y)*100\n",
        "print (\"% of train accuracy: \" + str(accuracy))"
      ],
      "execution_count": 13,
      "outputs": [
        {
          "output_type": "stream",
          "text": [
            "% of train accuracy: 89.0\n"
          ],
          "name": "stdout"
        }
      ]
    }
  ]
}