{
  "nbformat": 4,
  "nbformat_minor": 0,
  "metadata": {
    "colab": {
      "name": "ml_ex2_Logistic_regression_from_scratch.ipynb",
      "provenance": [],
      "authorship_tag": "ABX9TyMKizNzqJH3oC4nfR3QGmKG",
      "include_colab_link": true
    },
    "kernelspec": {
      "name": "python3",
      "display_name": "Python 3"
    }
  },
  "cells": [
    {
      "cell_type": "markdown",
      "metadata": {
        "id": "view-in-github",
        "colab_type": "text"
      },
      "source": [
        "<a href=\"https://colab.research.google.com/github/akiabe/coursera-ml-stanford/blob/master/ml_ex2_Logistic_regression_from_scratch.ipynb\" target=\"_parent\"><img src=\"https://colab.research.google.com/assets/colab-badge.svg\" alt=\"Open In Colab\"/></a>"
      ]
    },
    {
      "cell_type": "markdown",
      "metadata": {
        "id": "Ykl2345PG_Om",
        "colab_type": "text"
      },
      "source": [
        "**Build logistic regresion from scratch**"
      ]
    },
    {
      "cell_type": "code",
      "metadata": {
        "id": "-rbZCcFqJ25d",
        "colab_type": "code",
        "outputId": "9eed42d1-b6f1-49a9-b95c-b61686d251c9",
        "colab": {
          "base_uri": "https://localhost:8080/",
          "height": 51
        }
      },
      "source": [
        "import numpy as np\n",
        "\n",
        "# Load training data set\n",
        "data = np.loadtxt(open(\"ex2data1.txt\", \"r\"), delimiter=\",\")\n",
        "X = data[:, 0:2]\n",
        "y = data[:, 2]\n",
        "print (\"X shape: \" + str(X.shape))\n",
        "print (\"y shape: \" + str(y.shape))"
      ],
      "execution_count": 2,
      "outputs": [
        {
          "output_type": "stream",
          "text": [
            "X shape: (100, 2)\n",
            "y shape: (100,)\n"
          ],
          "name": "stdout"
        }
      ]
    },
    {
      "cell_type": "code",
      "metadata": {
        "id": "RPdOtYRIeC9g",
        "colab_type": "code",
        "colab": {
          "base_uri": "https://localhost:8080/",
          "height": 102
        },
        "outputId": "7ead9fd4-7f35-4395-9409-4af817ea02dc"
      },
      "source": [
        "X[0:5, 0:2]"
      ],
      "execution_count": 4,
      "outputs": [
        {
          "output_type": "execute_result",
          "data": {
            "text/plain": [
              "array([[34.62365962, 78.02469282],\n",
              "       [30.28671077, 43.89499752],\n",
              "       [35.84740877, 72.90219803],\n",
              "       [60.18259939, 86.3085521 ],\n",
              "       [79.03273605, 75.34437644]])"
            ]
          },
          "metadata": {
            "tags": []
          },
          "execution_count": 4
        }
      ]
    },
    {
      "cell_type": "code",
      "metadata": {
        "id": "TuLrwpr-eMkO",
        "colab_type": "code",
        "colab": {
          "base_uri": "https://localhost:8080/",
          "height": 119
        },
        "outputId": "ea3c5a4a-42fb-4424-d451-566f6a1d02c4"
      },
      "source": [
        "y"
      ],
      "execution_count": 8,
      "outputs": [
        {
          "output_type": "execute_result",
          "data": {
            "text/plain": [
              "array([0., 0., 0., 1., 1., 0., 1., 1., 1., 1., 0., 0., 1., 1., 0., 1., 1.,\n",
              "       0., 1., 1., 0., 1., 0., 0., 1., 1., 1., 0., 0., 0., 1., 1., 0., 1.,\n",
              "       0., 0., 0., 1., 0., 0., 1., 0., 1., 0., 0., 0., 1., 1., 1., 1., 1.,\n",
              "       1., 1., 0., 0., 0., 1., 0., 1., 1., 1., 0., 0., 0., 0., 0., 1., 0.,\n",
              "       1., 1., 0., 1., 1., 1., 1., 1., 1., 1., 0., 0., 1., 1., 1., 1., 1.,\n",
              "       1., 0., 1., 1., 0., 1., 1., 0., 1., 1., 1., 1., 1., 1., 1.])"
            ]
          },
          "metadata": {
            "tags": []
          },
          "execution_count": 8
        }
      ]
    },
    {
      "cell_type": "code",
      "metadata": {
        "id": "ot0twKZkcjnX",
        "colab_type": "code",
        "colab": {}
      },
      "source": [
        "import matplotlib.pyplot as plt\n",
        "%matplotlib inline\n",
        "\n",
        "# Plotting data\n",
        "def plot_data(X, y):\n",
        "  \"\"\"\n",
        "  Arguments:\n",
        "  X -- Data of X axis (n, 2)\n",
        "  y -- Data of y axis (n,)\n",
        "\n",
        "  \"\"\"\n",
        "  pos = np.argwhere(y == 1)\n",
        "  neg = np.argwhere(y == 0)\n",
        "  \n",
        "  plt.plot(X[pos, 0], X[pos, 1], linestyle='', marker='+', color='k')\n",
        "  plt.plot(X[neg, 0], X[neg, 1], linestyle='', marker='o', color='y')"
      ],
      "execution_count": 0,
      "outputs": []
    },
    {
      "cell_type": "code",
      "metadata": {
        "id": "4VQ5bYDpeuKX",
        "colab_type": "code",
        "colab": {
          "base_uri": "https://localhost:8080/",
          "height": 283
        },
        "outputId": "c7afb258-8e3a-4e10-d9f8-db908033083b"
      },
      "source": [
        "plt.figure()\n",
        "plot_data(X, y)\n",
        "\n",
        "plt.xlabel('Exam 1 score')\n",
        "plt.ylabel('Exam 2 score')\n",
        "plt.xlim([30, 100])\n",
        "plt.ylim([30, 100])\n",
        "plt.legend(['Admitted', 'Not admitted'], loc='upper right', numpoints=1)\n",
        "plt.show()"
      ],
      "execution_count": 12,
      "outputs": [
        {
          "output_type": "display_data",
          "data": {
            "image/png": "[encoded data removed]",
            "text/plain": [
              "<Figure size 432x288 with 1 Axes>"
            ]
          },
          "metadata": {
            "tags": [],
            "needs_background": "light"
          }
        }
      ]
    },
    {
      "cell_type": "code",
      "metadata": {
        "id": "z9wrFnxAKCk9",
        "colab_type": "code",
        "outputId": "d3a5c45f-da00-45f7-d10d-b0452c82b92a",
        "colab": {
          "base_uri": "https://localhost:8080/",
          "height": 51
        }
      },
      "source": [
        "# Setup the data matrix appropriately, and add ones for the intercept term\n",
        "m, n = X.shape\n",
        "# Add intercept term to x and X_test\n",
        "X = np.hstack((np.ones((m, 1)), X))\n",
        "# Initialize fitting parameters\n",
        "theta = np.zeros(n + 1) \n",
        "\n",
        "print (\"X shape: \" + str(X.shape))\n",
        "print (\"y shape: \" + str(y.shape))"
      ],
      "execution_count": 13,
      "outputs": [
        {
          "output_type": "stream",
          "text": [
            "X shape: (100, 3)\n",
            "y shape: (100,)\n"
          ],
          "name": "stdout"
        }
      ]
    },
    {
      "cell_type": "code",
      "metadata": {
        "id": "97xfJRbvJJj8",
        "colab_type": "code",
        "colab": {}
      },
      "source": [
        "# Sigmoid function\n",
        "def sigmoid(x):\n",
        "  s = 1/(1+np.exp(-x))\n",
        "  return s"
      ],
      "execution_count": 0,
      "outputs": []
    },
    {
      "cell_type": "code",
      "metadata": {
        "id": "Ichen6khJzjC",
        "colab_type": "code",
        "colab": {}
      },
      "source": [
        "# Compute cost and gradient\n",
        "def cost_function(theta, X, y):\n",
        "  m, n = X.shape\n",
        "\n",
        "  h = sigmoid(np.dot(X, theta.T))\n",
        "  J = (1/m) * np.sum(np.dot((-y), np.log(h))-np.dot((1-y), np.log(1-h)))\n",
        "  grad = (1/m) * (np.dot((h-y), X))\n",
        "  \n",
        "  return J, grad"
      ],
      "execution_count": 0,
      "outputs": []
    },
    {
      "cell_type": "code",
      "metadata": {
        "id": "e063ZuxCY3nd",
        "colab_type": "code",
        "outputId": "26675116-c709-460c-842b-9b7922ca5090",
        "colab": {
          "base_uri": "https://localhost:8080/",
          "height": 51
        }
      },
      "source": [
        "cost, grad = cost_function(theta, X, y)\n",
        "\n",
        "print (\"Cost at initial theta (zeros): \", cost)\n",
        "print (\"Gradient at initial theta (zeros): \", grad)"
      ],
      "execution_count": 20,
      "outputs": [
        {
          "output_type": "stream",
          "text": [
            "Cost at initial theta (zeros):  0.6931471805599453\n",
            "Gradient at initial theta (zeros):  [ -0.1        -12.00921659 -11.26284221]\n"
          ],
          "name": "stdout"
        }
      ]
    },
    {
      "cell_type": "code",
      "metadata": {
        "id": "DJJB39QKKbEE",
        "colab_type": "code",
        "outputId": "e005ed85-cb75-4054-cc4f-0d90f4e70e7a",
        "colab": {
          "base_uri": "https://localhost:8080/",
          "height": 51
        }
      },
      "source": [
        "# Optimize cost function\n",
        "import scipy.optimize as opt\n",
        "\n",
        "theta, nfeval, rc = opt.fmin_tnc(func=cost_function, x0=theta, args=(X, y))\n",
        "\n",
        "cost, _ = cost_function(theta, X, y)\n",
        "print(\"Cost at theta found by fminunc :\", cost)\n",
        "print(\"theta :\", theta)"
      ],
      "execution_count": 21,
      "outputs": [
        {
          "output_type": "stream",
          "text": [
            "Cost at theta found by fminunc : 0.203497701589475\n",
            "theta : [-25.16131851   0.20623159   0.20147148]\n"
          ],
          "name": "stdout"
        }
      ]
    },
    {
      "cell_type": "code",
      "metadata": {
        "id": "QHktuGRYlwU1",
        "colab_type": "code",
        "colab": {
          "base_uri": "https://localhost:8080/",
          "height": 34
        },
        "outputId": "4f48a983-51aa-476b-f24c-0155fe2ba755"
      },
      "source": [
        "# Predict probability for a student with score 45 on exam 1 and score 85 on exam 2\n",
        "prob = sigmoid(np.dot(np.array([1, 45, 85]), theta))\n",
        "print(\"For a student with scores 45 and 85, we predict an admission probability of\", prob)"
      ],
      "execution_count": 27,
      "outputs": [
        {
          "output_type": "stream",
          "text": [
            "For a student with scores 45 and 85, we predict an admission probability of 0.7762906214285727\n"
          ],
          "name": "stdout"
        }
      ]
    },
    {
      "cell_type": "code",
      "metadata": {
        "id": "kz66MbOxKla0",
        "colab_type": "code",
        "colab": {}
      },
      "source": [
        "# The predict() predicts the input data with learned logistic regression parameters\n",
        "def predict(theta, X):\n",
        "  m = X.shape[0]\n",
        "  p = np.zeros(m)\n",
        "  p = np.round(sigmoid(np.dot(X, theta.T)))\n",
        "  return p"
      ],
      "execution_count": 0,
      "outputs": []
    },
    {
      "cell_type": "code",
      "metadata": {
        "id": "MAdoigwgdYVw",
        "colab_type": "code",
        "outputId": "eee425af-009a-4fcb-bbdd-02d625cdc007",
        "colab": {
          "base_uri": "https://localhost:8080/",
          "height": 34
        }
      },
      "source": [
        "p = predict(theta, X) \n",
        "accuracy = np.mean(p==y)*100\n",
        "print (\"% of train accuracy: \" + str(accuracy))"
      ],
      "execution_count": 29,
      "outputs": [
        {
          "output_type": "stream",
          "text": [
            "% of train accuracy: 89.0\n"
          ],
          "name": "stdout"
        }
      ]
    },
    {
      "cell_type": "code",
      "metadata": {
        "id": "SRxS3QpGdr-Z",
        "colab_type": "code",
        "colab": {}
      },
      "source": [
        ""
      ],
      "execution_count": 0,
      "outputs": []
    }
  ]
}