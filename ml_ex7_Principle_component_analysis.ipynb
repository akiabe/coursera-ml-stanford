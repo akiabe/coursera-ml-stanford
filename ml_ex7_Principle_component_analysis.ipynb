{
  "nbformat": 4,
  "nbformat_minor": 0,
  "metadata": {
    "colab": {
      "name": "ml_ex7_Principle_component_analysis.ipynb",
      "provenance": [],
      "authorship_tag": "ABX9TyO8TiikPdF13v1oGn7pE5bU",
      "include_colab_link": true
    },
    "kernelspec": {
      "name": "python3",
      "display_name": "Python 3"
    }
  },
  "cells": [
    {
      "cell_type": "markdown",
      "metadata": {
        "id": "view-in-github",
        "colab_type": "text"
      },
      "source": [
        "<a href=\"https://colab.research.google.com/github/akiabe/coursera-ml-stanford/blob/master/ml_ex7_Principle_component_analysis.ipynb\" target=\"_parent\"><img src=\"https://colab.research.google.com/assets/colab-badge.svg\" alt=\"Open In Colab\"/></a>"
      ]
    },
    {
      "cell_type": "code",
      "metadata": {
        "id": "mKZZ9lX3cszk",
        "colab_type": "code",
        "colab": {}
      },
      "source": [
        "# Import library\n",
        "import numpy as np\n",
        "import scipy.io as scio\n",
        "import matplotlib as mpl\n",
        "import matplotlib.pyplot as plt\n",
        "%matplotlib inline"
      ],
      "execution_count": 0,
      "outputs": []
    },
    {
      "cell_type": "code",
      "metadata": {
        "id": "jfa4-llGgjkr",
        "colab_type": "code",
        "colab": {
          "base_uri": "https://localhost:8080/",
          "height": 34
        },
        "outputId": "8537040d-4888-4608-fc57-4e5df0d80269"
      },
      "source": [
        "# Load training data\n",
        "data = scio.loadmat('ex7data1.mat')\n",
        "X = data['X']\n",
        "print (\"X shape: \" + str(X.shape))"
      ],
      "execution_count": 2,
      "outputs": [
        {
          "output_type": "stream",
          "text": [
            "X shape: (50, 2)\n"
          ],
          "name": "stdout"
        }
      ]
    },
    {
      "cell_type": "code",
      "metadata": {
        "id": "LTqTm0MMgotT",
        "colab_type": "code",
        "colab": {
          "base_uri": "https://localhost:8080/",
          "height": 265
        },
        "outputId": "0063d5c1-e186-4069-fbc9-3a93af3cbfc4"
      },
      "source": [
        "# Visualize data\n",
        "plt.scatter(X[:, 0], X[:, 1], s=50);"
      ],
      "execution_count": 5,
      "outputs": [
        {
          "output_type": "display_data",
          "data": {
            "image/png": "[encoded data removed]",
            "text/plain": [
              "<Figure size 432x288 with 1 Axes>"
            ]
          },
          "metadata": {
            "tags": [],
            "needs_background": "light"
          }
        }
      ]
    },
    {
      "cell_type": "code",
      "metadata": {
        "id": "fK_jesWlhZgP",
        "colab_type": "code",
        "colab": {}
      },
      "source": [
        "# Feature normalization\n",
        "def feature_normalization(X):\n",
        "  \"\"\"\n",
        "  Argument:\n",
        "  X -- Training examples (m, n)\n",
        "\n",
        "  Return:\n",
        "  X_norm -- Normalize training examples (m, n)\n",
        "  mu -- Mean value of each feature (n, )\n",
        "  sigma -- Standard deviation of each feature (n, )\n",
        "\n",
        "  \"\"\"\n",
        "\n",
        "  mu = np.mean(X, axis=0)\n",
        "  sigma = np.std(X, axis=0)\n",
        "  X_norm = (X-mu) / sigma\n",
        "\n",
        "  return X_norm, mu, sigma"
      ],
      "execution_count": 0,
      "outputs": []
    },
    {
      "cell_type": "code",
      "metadata": {
        "id": "eQxzAyyEhK_J",
        "colab_type": "code",
        "colab": {}
      },
      "source": [
        "# Compute the principal components of variation in the data\n",
        "def pca(X):\n",
        "  \"\"\"\n",
        "  Compute eigenvectors of the covariance matrix of X\n",
        "\n",
        "  Argument:\n",
        "  X -- Training examples (m, n)\n",
        "\n",
        "  Return:\n",
        "  U -- eigenvectors of the covariance matrix\n",
        "  S -- eigenvalues of the covariance matrix\n",
        "\n",
        "  \"\"\"\n",
        "  m, n = X.shape\n",
        "\n",
        "  # Compute covariance matrix of the dataset\n",
        "  sigma = np.dot(X.T, X)/m\n",
        "\n",
        "  # Run SVD to compute principal components\n",
        "  U, S, V = np.linalg.svd(sigma)\n",
        "\n",
        "  return U, S, V"
      ],
      "execution_count": 0,
      "outputs": []
    },
    {
      "cell_type": "code",
      "metadata": {
        "id": "f_MCrYWqqDiN",
        "colab_type": "code",
        "colab": {}
      },
      "source": [
        "# Plot line graph\n",
        "def draw_line(p1, p2, dash=False):\n",
        "    \"\"\"\n",
        "    Draws a line from point p1 to point p2\n",
        "    \n",
        "    Argument:\n",
        "    p1 : Point 1 np.array\n",
        "    p2 : Point 2 np.array\n",
        "    dash : if True, plot dash line\n",
        "    \n",
        "    \"\"\"\n",
        "    if dash:\n",
        "        plt.plot([p1[0], p2[0]], [p1[1], p2[1]], '--',color='k')\n",
        "    else:\n",
        "        plt.plot([p1[0], p2[0]], [p1[1], p2[1]], color='k')"
      ],
      "execution_count": 0,
      "outputs": []
    },
    {
      "cell_type": "code",
      "metadata": {
        "id": "qR8P1PrMqu3c",
        "colab_type": "code",
        "colab": {
          "base_uri": "https://localhost:8080/",
          "height": 316
        },
        "outputId": "bb8ae3a1-a6bf-41a7-9f5b-d09ccd60da7b"
      },
      "source": [
        "# Normalize data and run PCA\n",
        "X_norm, mu, sigma = feature_normalization(X)\n",
        "U, S, V = pca(X_norm)\n",
        "\n",
        "plt.figure()\n",
        "draw_line(mu, mu+1.5*S[0]*U[:,0].T)\n",
        "draw_line(mu, mu+1.5*S[1]*U[:,1].T)\n",
        "plt.show()\n",
        "\n",
        "print()\n",
        "print(\"Top eigenvector U = :\" +str(U[:, 0]))\n",
        "print(\"Expect results : -0.70710678 -0.70710678\")"
      ],
      "execution_count": 14,
      "outputs": [
        {
          "output_type": "display_data",
          "data": {
            "image/png": "[encoded data removed]",
            "text/plain": [
              "<Figure size 432x288 with 1 Axes>"
            ]
          },
          "metadata": {
            "tags": [],
            "needs_background": "light"
          }
        },
        {
          "output_type": "stream",
          "text": [
            "\n",
            "Top eigenvector U = :[-0.70710678 -0.70710678]\n",
            "Expect results : -0.70710678 -0.70710678\n"
          ],
          "name": "stdout"
        }
      ]
    },
    {
      "cell_type": "code",
      "metadata": {
        "id": "Bq304H5jrsI7",
        "colab_type": "code",
        "colab": {}
      },
      "source": [
        ""
      ],
      "execution_count": 0,
      "outputs": []
    }
  ]
}