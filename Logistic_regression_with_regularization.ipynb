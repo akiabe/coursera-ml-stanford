{
  "nbformat": 4,
  "nbformat_minor": 0,
  "metadata": {
    "colab": {
      "name": "Logistic_regression_with_regularization.ipynb",
      "provenance": [],
      "authorship_tag": "ABX9TyO01vJ+BfKoTQTX6tEGV/Mn",
      "include_colab_link": true
    },
    "kernelspec": {
      "name": "python3",
      "display_name": "Python 3"
    }
  },
  "cells": [
    {
      "cell_type": "markdown",
      "metadata": {
        "id": "view-in-github",
        "colab_type": "text"
      },
      "source": [
        "<a href=\"https://colab.research.google.com/github/akiabe/coursera-ml-stanford/blob/master/Logistic_regression_with_regularization.ipynb\" target=\"_parent\"><img src=\"https://colab.research.google.com/assets/colab-badge.svg\" alt=\"Open In Colab\"/></a>"
      ]
    },
    {
      "cell_type": "code",
      "metadata": {
        "id": "XwwoozxDHBqM",
        "colab_type": "code",
        "colab": {}
      },
      "source": [
        "import numpy as np\n",
        "\n",
        "# Load data\n",
        "data = np.loadtxt(open(\"ex2data2.txt\", \"r\"), delimiter=\",\")\n",
        "X = data[:, 0:2]\n",
        "y = data[:, 2]"
      ],
      "execution_count": 0,
      "outputs": []
    },
    {
      "cell_type": "code",
      "metadata": {
        "id": "Nq6-TSv3H-Y2",
        "colab_type": "code",
        "colab": {}
      },
      "source": [
        "# Plotting function\n",
        "import matplotlib.pyplot as plt\n",
        "\n",
        "def plot_data(X, y):\n",
        "    \"\"\"\n",
        "    Plots the data points X and y\n",
        "\n",
        "    Arguments:\n",
        "    X -- Data on x axis, shape (n_samples, 2)\n",
        "    y -- Data on y axis, shape (n_samples,)\n",
        "\n",
        "    \"\"\"\n",
        "    pos = np.argwhere(y == 1)\n",
        "    neg = np.argwhere(y == 0)\n",
        "\n",
        "    plt.plot(X[pos, 0], X[pos, 1], linestyle='', marker='+', color='k')\n",
        "    plt.plot(X[neg, 0], X[neg, 1], linestyle='', marker='o', color='y')"
      ],
      "execution_count": 0,
      "outputs": []
    },
    {
      "cell_type": "code",
      "metadata": {
        "id": "cagd8f7WIc4I",
        "colab_type": "code",
        "colab": {
          "base_uri": "https://localhost:8080/",
          "height": 278
        },
        "outputId": "3bf76bad-fd38-47e7-9e4a-452e4ab97fb3"
      },
      "source": [
        "plt.figure()\n",
        "plot_data(X, y)\n",
        "plt.xlabel('Microchip Test 1')\n",
        "plt.ylabel('Microchip Test 2')\n",
        "plt.legend(['y = 1', 'y = 0'], loc='upper right', numpoints=1)\n",
        "plt.show()"
      ],
      "execution_count": 4,
      "outputs": [
        {
          "output_type": "display_data",
          "data": {
            "image/png": "[encoded data removed]",
            "text/plain": [
              "<Figure size 432x288 with 1 Axes>"
            ]
          },
          "metadata": {
            "tags": [],
            "needs_background": "light"
          }
        }
      ]
    },
    {
      "cell_type": "code",
      "metadata": {
        "id": "nGxawD6_Igew",
        "colab_type": "code",
        "colab": {}
      },
      "source": [
        "# Maps input features to polynomial ones\n",
        "def map_feature(X1, X2):\n",
        "\n",
        "    \"\"\"\n",
        "    Feature mapping function to polynomial features\n",
        "    \n",
        "    Arguments:\n",
        "    X1 -- Input feature (n_samples,)\n",
        "    X2 -- Input feature (n_samples,)\n",
        "    \n",
        "    Returns:\n",
        "    Out -- New feature array with more features, comprising of X1, X2, X1.^2, X2.^2, X1*X2, X1*X2.^2, etc..\n",
        "           (n_samples, 28)\n",
        "           \n",
        "    \"\"\"\n",
        "    degree = 6\n",
        "    Out = np.ones(len(X1))\n",
        "\n",
        "    for i in range(1, degree + 1):\n",
        "        for j in range(0, i + 1):\n",
        "            tmp = np.power(X1, i - j) * np.power(X2, j)\n",
        "            Out = np.vstack((Out, tmp))\n",
        "    return Out.T"
      ],
      "execution_count": 0,
      "outputs": []
    },
    {
      "cell_type": "code",
      "metadata": {
        "id": "yqSYw-wYI4TA",
        "colab_type": "code",
        "colab": {}
      },
      "source": [
        "# Add polynominal features\n",
        "X = map_feature(X[:, 0], X[:, 1])"
      ],
      "execution_count": 0,
      "outputs": []
    },
    {
      "cell_type": "code",
      "metadata": {
        "id": "iK0-qo-iI-Uf",
        "colab_type": "code",
        "colab": {}
      },
      "source": [
        "# Initialize parameters\n",
        "\n",
        "m, n = X.shape\n",
        "\n",
        "# Initialize fitting parameters\n",
        "initial_theta = np.zeros(n)\n",
        "\n",
        "# Set regularization parameter lambda to 1\n",
        "lambd = 1.0"
      ],
      "execution_count": 0,
      "outputs": []
    },
    {
      "cell_type": "code",
      "metadata": {
        "id": "rGga9TZTJUYe",
        "colab_type": "code",
        "colab": {}
      },
      "source": [
        "# Sigmoid function\n",
        "def sigmoid(x):\n",
        "  s = 1/(1+np.exp(-x))\n",
        "  return s"
      ],
      "execution_count": 0,
      "outputs": []
    },
    {
      "cell_type": "code",
      "metadata": {
        "id": "zPE4Ko7NJICH",
        "colab_type": "code",
        "colab": {}
      },
      "source": [
        "# Computes the cost and gradient for logistic regression with regularization\n",
        "def cost_function_regularization(theta, X, y, lambd):\n",
        "    \"\"\"\n",
        "    Compute cost and gradient for logistic regression with regularization\n",
        "\n",
        "    Arguments:\n",
        "    theta -- Linear regression parameter, shape (n_features,)\n",
        "    X -- Training data, where n_samples is the number of samples and n_features is the number of features,\n",
        "         shape (n_samples, n_features)\n",
        "    y -- Labels, shape (n_samples,)\n",
        "    Lambd -- Regularization parameter\n",
        "\n",
        "    Returns:\n",
        "    J -- Cost of using theta as the parameter for regularized logistic regression w.r.t. the parameters\n",
        "    grad -- Partial derivatives of the cost w.r.t. each parameter in theta, shape (n_features,)\n",
        "\n",
        "    \"\"\"\n",
        "    m, n = X.shape\n",
        "    \n",
        "    mask = np.eye(len(theta))\n",
        "    \n",
        "    # Skip the theta[0, 0] parameters when performing regularization\n",
        "    mask[0, 0] = 0\n",
        "    \n",
        "    h = sigmoid(np.dot(X, theta.T))\n",
        "    J = (1/m) * np.sum(np.dot((-y), np.log(h))-np.dot((1-y), np.log(1-h))) + (lambd/2*m)*np.sum(np.dot(mask, theta))\n",
        "    \n",
        "    grad = (1/m) * (np.dot((h-y), X)) + (lambd/m) * np.dot(mask, theta)\n",
        "    \n",
        "    return J, grad"
      ],
      "execution_count": 0,
      "outputs": []
    },
    {
      "cell_type": "code",
      "metadata": {
        "id": "QcZwAmCZMNns",
        "colab_type": "code",
        "colab": {
          "base_uri": "https://localhost:8080/",
          "height": 34
        },
        "outputId": "2934a98c-915b-44df-a1cf-d6fda510ffdf"
      },
      "source": [
        "cost, _ = cost_function_regularization(initial_theta, X, y, lambd)\n",
        "\n",
        "print (\"Cost at initial theta (zeros): \", cost)"
      ],
      "execution_count": 15,
      "outputs": [
        {
          "output_type": "stream",
          "text": [
            "Cost at initial theta (zeros):  0.6931471805599454\n"
          ],
          "name": "stdout"
        }
      ]
    },
    {
      "cell_type": "code",
      "metadata": {
        "id": "nGpTz1tDNLBR",
        "colab_type": "code",
        "colab": {}
      },
      "source": [
        "# Train the model\n",
        "import scipy.optimize as opt\n",
        "\n",
        "theta, nfeval, rc = opt.fmin_tnc(func=cost_function_regularization, x0=initial_theta, args=(X, y, lambd))"
      ],
      "execution_count": 0,
      "outputs": []
    },
    {
      "cell_type": "code",
      "metadata": {
        "id": "uFPi4EmENSlk",
        "colab_type": "code",
        "colab": {}
      },
      "source": [
        "# Plot the decision boundary\n",
        "def plot_decision_boundary(theta, X, y):\n",
        "    \"\"\"\n",
        "    Plots the data points X and y into a new figure with the decision boundary defined by theta\n",
        "    \n",
        "    Arguments:\n",
        "    theta -- Linear regression parameter (n_features,)\n",
        "    X -- Training data, where n_samples is the number of samples and n_features is the number of features.\n",
        "         (n_samples, n_features)\n",
        "    y -- Labels (n_samples,)\n",
        "\n",
        "    \"\"\"\n",
        "    if X.shape[1] <= 3:\n",
        "        plot_X = np.array([np.amin(X[:, 1]) - 2, np.amax(X[:, 1]) + 2])\n",
        "        plot_y = -1.0 / theta[2] * (theta[1] * plot_X + theta[0])\n",
        "        plt.plot(plot_X, plot_y)\n",
        "    else:\n",
        "        u = np.linspace(-1, 1.5, 50)\n",
        "        # u.resize((len(u), 1))\n",
        "        v = np.linspace(-1, 1.5, 50)\n",
        "        # v.resize((len(v), 1))\n",
        "        z = np.zeros((len(u), len(v)))\n",
        "        for i in range(len(u)):\n",
        "            for j in range(len(v)):\n",
        "                z[i, j] = map_feature(u[i:i+1], v[j:j+1]).dot(theta)\n",
        "        z = z.T\n",
        "        u, v = np.meshgrid(u, v)\n",
        "        cs = plt.contour(u, v, z, levels=[0])\n",
        "        fmt = {}\n",
        "        strs = ['Decision boundary']\n",
        "        for l, s in zip(cs.levels, strs):\n",
        "            fmt[l] = s\n",
        "\n",
        "        plt.clabel(cs, cs.levels[::2], inline=True, fmt=fmt, fontsize=10)"
      ],
      "execution_count": 0,
      "outputs": []
    },
    {
      "cell_type": "code",
      "metadata": {
        "id": "lsFSGIIINi1k",
        "colab_type": "code",
        "colab": {
          "base_uri": "https://localhost:8080/",
          "height": 283
        },
        "outputId": "3a69e055-daff-415b-adb1-cb57ac517226"
      },
      "source": [
        "plt.figure()\n",
        "plot_data(X[:, 1:], y)\n",
        "plt.xlabel('Microchip Test 1')\n",
        "plt.ylabel('Microchip Test 2')\n",
        "plt.legend(['y = 1', 'y = 0'], loc='upper right', numpoints=1)\n",
        "plot_decision_boundary(theta, X, y)\n",
        "plt.show()"
      ],
      "execution_count": 19,
      "outputs": [
        {
          "output_type": "display_data",
          "data": {
            "image/png": "[encoded data removed]",
            "text/plain": [
              "<Figure size 432x288 with 1 Axes>"
            ]
          },
          "metadata": {
            "tags": [],
            "needs_background": "light"
          }
        }
      ]
    },
    {
      "cell_type": "code",
      "metadata": {
        "id": "iQK1iSDlNk8U",
        "colab_type": "code",
        "colab": {}
      },
      "source": [
        "# Predicts the input data with learned logistic regression parameters\n",
        "def predict(theta, X):\n",
        "    p = sigmoid(X.dot(theta)) >= 0.5\n",
        "    return p.astype(int)"
      ],
      "execution_count": 0,
      "outputs": []
    },
    {
      "cell_type": "code",
      "metadata": {
        "id": "iaMvGjrCNwT8",
        "colab_type": "code",
        "colab": {
          "base_uri": "https://localhost:8080/",
          "height": 34
        },
        "outputId": "9d58e777-472f-4551-d24f-ab37d6829e4f"
      },
      "source": [
        "# Compute accuracy on the training set\n",
        "p = predict(theta, X) \n",
        "print('Train Accuracy :', np.mean(p == y) * 100)"
      ],
      "execution_count": 23,
      "outputs": [
        {
          "output_type": "stream",
          "text": [
            "Train Accuracy : 83.05084745762711\n"
          ],
          "name": "stdout"
        }
      ]
    },
    {
      "cell_type": "code",
      "metadata": {
        "id": "cfp5BqDgN288",
        "colab_type": "code",
        "colab": {}
      },
      "source": [
        ""
      ],
      "execution_count": 0,
      "outputs": []
    }
  ]
}